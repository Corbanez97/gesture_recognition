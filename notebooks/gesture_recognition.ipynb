{
 "cells": [
  {
   "cell_type": "code",
   "execution_count": 1,
   "id": "f3d58ac0-49e6-4104-9d11-23922b1a5041",
   "metadata": {},
   "outputs": [],
   "source": [
    "import mediapipe as mp\n",
    "\n",
    "import keyboard\n",
    "\n",
    "import cv2\n",
    "\n",
    "import time"
   ]
  },
  {
   "cell_type": "code",
   "execution_count": 2,
   "id": "dedf6d5d-984b-49a8-8961-3009801614e1",
   "metadata": {},
   "outputs": [],
   "source": [
    "cap = cv2.VideoCapture(0)\n",
    "if not cap.isOpened():\n",
    "    print(\"Error: Could not open video file\")\n",
    "    \n",
    "BaseOptions = mp.tasks.BaseOptions\n",
    "GestureRecognizer = mp.tasks.vision.GestureRecognizer\n",
    "GestureRecognizerOptions = mp.tasks.vision.GestureRecognizerOptions\n",
    "GestureRecognizerResult = mp.tasks.vision.GestureRecognizerResult\n",
    "VisionRunningMode = mp.tasks.vision.RunningMode\n",
    "\n",
    "def add_result_to_img(result: GestureRecognizerResult, output_image: mp.Image, timestamp_ms: int):\n",
    "    global cname\n",
    "    try:\n",
    "        cname = result.gestures[0][0].category_name\n",
    "    except:\n",
    "        cname = 'None'\n",
    "\n",
    "options = GestureRecognizerOptions(\n",
    "    base_options=BaseOptions(model_asset_path='../models/gesture_recognizer.task'),\n",
    "    running_mode=VisionRunningMode.LIVE_STREAM,\n",
    "    result_callback=add_result_to_img\n",
    "    )\n",
    "\n",
    "with GestureRecognizer.create_from_options(options) as recognizer:\n",
    "\n",
    "    running = True\n",
    "\n",
    "    while running:\n",
    "        success, img = cap.read()\n",
    "        imgRGB = cv2.cvtColor(img, cv2.COLOR_BGR2RGB)\n",
    "        \n",
    "        frame_timestamp_ms = int(time.time() * 1000)\n",
    "        \n",
    "        mp_img = mp.Image(image_format=mp.ImageFormat.SRGB, data=imgRGB)\n",
    "        \n",
    "        recognition_result = recognizer.recognize_async(mp_img, frame_timestamp_ms)\n",
    "        \n",
    "        try:\n",
    "            cv2.putText(img, f\"Gesture: {cname}\", (10,70), cv2.FONT_HERSHEY_PLAIN, 2, (255,0,255), 3)\n",
    "        except:\n",
    "            pass\n",
    "\n",
    "        cv2.imshow(\"Gesture Recognition\", img)\n",
    "        \n",
    "        if keyboard.is_pressed(' '):  # Check if spacebar is pressed\n",
    "            break\n",
    "\n",
    "        if cv2.waitKey(1) & 0xFF == ord('q'):\n",
    "            break\n",
    "\n",
    "    cap.release()\n",
    "    cv2.destroyAllWindows()"
   ]
  },
  {
   "cell_type": "code",
   "execution_count": null,
   "id": "aa749ba6-2546-484e-9a21-bd59e1f8d35f",
   "metadata": {},
   "outputs": [],
   "source": []
  }
 ],
 "metadata": {
  "kernelspec": {
   "display_name": "Python 3 (ipykernel)",
   "language": "python",
   "name": "python3"
  },
  "language_info": {
   "codemirror_mode": {
    "name": "ipython",
    "version": 3
   },
   "file_extension": ".py",
   "mimetype": "text/x-python",
   "name": "python",
   "nbconvert_exporter": "python",
   "pygments_lexer": "ipython3",
   "version": "3.10.7"
  }
 },
 "nbformat": 4,
 "nbformat_minor": 5
}
